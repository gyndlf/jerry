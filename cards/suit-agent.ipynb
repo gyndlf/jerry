{
 "cells": [
  {
   "cell_type": "code",
   "execution_count": 23,
   "outputs": [
    {
     "name": "stdout",
     "output_type": "stream",
     "text": [
      "Found 84 images belonging to 4 classes.\n",
      "Found 20 images belonging to 4 classes.\n"
     ]
    }
   ],
   "source": [
    "# d6625, d6898\n",
    "# Generate a model that classifies card suits, from the images created\n",
    "# Uses images in suits/train and suits/test (but test is not added yet)\n",
    "# Heavily \"inspired\" by catsvdogs model from keras. Now heavily modified\n",
    "# Ripped from value-agent.ipynb\n",
    "\n",
    "import numpy as np\n",
    "import os\n",
    "from keras.preprocessing.image import ImageDataGenerator\n",
    "import tensorflow as tf\n",
    "import matplotlib.pyplot as plt\n",
    "\n",
    "def value_to_label(val):\n",
    "    suits = ['club', 'diamond', 'heart', 'spade']\n",
    "    return suits[val]\n",
    "\n",
    "base_dir = '/Users/James/projects/PycharmProjects/jerry/cards'\n",
    "train_dir = os.path.join(base_dir, 'suits/train')\n",
    "\n",
    "datagen = ImageDataGenerator(\n",
    "    rescale=1./255,\n",
    "    brightness_range=[0.2, 2],\n",
    "    shear_range=3.0,\n",
    "    zoom_range=[.95, 1.05],\n",
    "    rotation_range=5,\n",
    "    validation_split=0.2)\n",
    "\n",
    "batch_size = 5\n",
    "\n",
    "train_generator = datagen.flow_from_directory(train_dir,\n",
    "                                        target_size=(150,150),\n",
    "                                        batch_size=batch_size,\n",
    "                                        color_mode='rgb',\n",
    "                                        class_mode='categorical',\n",
    "                                        subset='training',\n",
    "                                        shuffle=True)\n",
    "\n",
    "validation_generator = datagen.flow_from_directory(train_dir,\n",
    "                                        target_size=(150,150),\n",
    "                                        batch_size=batch_size,\n",
    "                                        color_mode='rgb',\n",
    "                                        class_mode='categorical',\n",
    "                                        subset='validation')"
   ],
   "metadata": {
    "collapsed": false,
    "pycharm": {
     "name": "#%%\n"
    }
   }
  },
  {
   "cell_type": "code",
   "execution_count": null,
   "outputs": [],
   "source": [
    "print('Sample of input train image')\n",
    "for inputs_batch, labels_batch in train_generator:\n",
    "    plt.imshow(inputs_batch[0].reshape(150,150,3))\n",
    "    plt.show()\n",
    "    val = labels_batch[0].argmax(axis=0)\n",
    "    print('label of', value_to_label(val), '(%a)' % val)\n",
    "    print('Shape of', inputs_batch.shape)\n",
    "    break\n",
    "\n",
    "print('Sample of input validation image')\n",
    "for inputs_batch, labels_batch in validation_generator:\n",
    "    plt.imshow(inputs_batch[0].reshape(150,150,3))\n",
    "    plt.show()\n",
    "    val = labels_batch[0].argmax(axis=0)\n",
    "    print('label of', value_to_label(val), '(%a)' % val)\n",
    "    print('Shape of', inputs_batch.shape)\n",
    "    break"
   ],
   "metadata": {
    "collapsed": false,
    "pycharm": {
     "name": "#%%\n"
    }
   }
  },
  {
   "cell_type": "code",
   "execution_count": null,
   "outputs": [],
   "source": [
    "from keras import layers\n",
    "from keras import models\n",
    "from keras.optimizers import RMSprop\n",
    "\n",
    "# Probably too complex for this situiation, but I don't care\n",
    "model = models.Sequential()\n",
    "model.add(layers.Conv2D(32, (3,3), activation='relu', input_shape=(150,150,3)))\n",
    "model.add(layers.MaxPooling2D((2,2)))\n",
    "model.add(layers.Conv2D(64, (3,3), activation='relu'))\n",
    "model.add(layers.MaxPooling2D((2,2)))\n",
    "model.add(layers.Conv2D(128, (3,3), activation='relu'))\n",
    "model.add(layers.MaxPooling2D((2,2)))\n",
    "\n",
    "model.add(layers.Flatten())  # Dimension reduce\n",
    "model.add(layers.Dropout(0.5))  # Get rid of conspiracies\n",
    "model.add(layers.Dense(512, activation='relu'))\n",
    "model.add(layers.Dense(4, activation='softmax'))  # 4 suits\n",
    "\n",
    "model.compile(loss='categorical_crossentropy',\n",
    "              optimizer=RMSprop(lr=1e-4),\n",
    "              metrics=['acc'])\n",
    "model.summary()"
   ],
   "metadata": {
    "collapsed": false,
    "pycharm": {
     "name": "#%%\n"
    }
   }
  },
  {
   "cell_type": "code",
   "execution_count": null,
   "outputs": [],
   "source": [
    "from keras.callbacks import Callback\n",
    "class CustomCallback(Callback):\n",
    "    def on_epoch_begin(self, epoch, logs=None):\n",
    "        if epoch % 50 == 0:\n",
    "            print('Epoch', epoch)\n",
    "\n",
    "from time import time\n",
    "start = time()\n",
    "history = model.fit(\n",
    "    train_generator,\n",
    "    steps_per_epoch=train_generator.samples // batch_size,\n",
    "    validation_data=validation_generator,\n",
    "    validation_steps=validation_generator.samples // batch_size,\n",
    "    verbose=1,\n",
    "    epochs=50,\n",
    "    callbacks=[CustomCallback()]\n",
    ")\n",
    "print('Took',(time()-start).__round__(4),'seconds to train the network')"
   ],
   "metadata": {
    "collapsed": false,
    "pycharm": {
     "name": "#%%\n"
    }
   }
  },
  {
   "cell_type": "code",
   "execution_count": null,
   "outputs": [],
   "source": [
    "save = False\n",
    "load = False\n",
    "export = True\n",
    "\n",
    "if save:\n",
    "    # save the model\n",
    "    print('Saving model...')\n",
    "    model.save('models/suit-v3.h5')\n",
    "\n",
    "if load:\n",
    "    # Load it\n",
    "    print('Loading model...')\n",
    "    model = models.load_model(os.path.join(base_dir, 'models/suit-v3.h5'))\n",
    "\n",
    "if export:\n",
    "    print('Exporting model...')\n",
    "    converter = tf.lite.TFLiteConverter.from_keras_model(model)\n",
    "    tflite_model = converter.convert()\n",
    "\n",
    "    with open('models/suit-v3.tflite', 'wb') as f:\n",
    "        f.write(tflite_model)\n"
   ],
   "metadata": {
    "collapsed": false,
    "pycharm": {
     "name": "#%%\n"
    }
   }
  },
  {
   "cell_type": "code",
   "execution_count": null,
   "outputs": [],
   "source": [
    "# Visualise the training data\n",
    "%matplotlib inline\n",
    "import matplotlib.pyplot as plt\n",
    "\n",
    "acc = history.history['acc']\n",
    "loss = history.history['loss']\n",
    "val_acc = history.history['val_acc']\n",
    "val_loss = history.history['val_loss']\n",
    "\n",
    "\n",
    "epochs = range(1, len(acc)+1)\n",
    "\n",
    "plt.plot(epochs, acc, 'b', label='Training acc')\n",
    "plt.plot(epochs, val_acc, 'r', label='Validation acc')\n",
    "plt.title('Training accuracy')\n",
    "plt.legend()\n",
    "\n",
    "plt.figure()  # Combines the two graphs\n",
    "\n",
    "plt.plot(epochs, loss, 'b', label='Training loss')\n",
    "plt.plot(epochs, val_loss, 'r', label='Validation loss')\n",
    "plt.title('Training loss')\n",
    "plt.legend()\n",
    "\n",
    "plt.show()"
   ],
   "metadata": {
    "collapsed": false,
    "pycharm": {
     "name": "#%%\n"
    }
   }
  },
  {
   "cell_type": "code",
   "execution_count": 24,
   "outputs": [
    {
     "name": "stdout",
     "output_type": "stream",
     "text": [
      "Testing on all cards\n",
      "Testing on diamond\n",
      "26 / 26\n",
      "Testing on club\n",
      "26 / 26\n",
      "Testing on heart\n",
      "26 / 26\n",
      "Testing on spade\n",
      "26 / 26\n",
      "Overall accuracy of 100.0 %\n",
      "(104/104)\n"
     ]
    }
   ],
   "source": [
    "# Test on custom image\n",
    "from keras.preprocessing import image\n",
    "\n",
    "print('Testing on all cards')\n",
    "overall = [0,0]\n",
    "\n",
    "for suit in os.listdir(train_dir):\n",
    "    if suit != '.DS_Store':\n",
    "        dir = os.path.join(train_dir, suit)\n",
    "        print('Testing on', suit)\n",
    "        fnames = []\n",
    "        for fname in os.listdir(dir):\n",
    "            if fname != '.DS_Store':\n",
    "                fnames.append(os.path.join(dir, fname))\n",
    "\n",
    "        correct = 0\n",
    "        overall[1] += fnames.__len__()\n",
    "        for img_path in fnames[:]:  # only first 3 plz\n",
    "            img = image.load_img(img_path, target_size=(150,150),\n",
    "                                 color_mode='rgb')\n",
    "\n",
    "            x = image.img_to_array(img)\n",
    "            x = x.astype('float32')/255\n",
    "            x = x.reshape((1,) + x.shape)  # Convert from (150,150,3) to (1,150,150,3)\n",
    "\n",
    "            #plt.imshow(img)\n",
    "            #plt.show()\n",
    "            pred = np.argmax(model.predict(x, verbose=0)[0])\n",
    "\n",
    "            if value_to_label(pred) == suit:\n",
    "                correct += 1\n",
    "\n",
    "            #print('Pred of', pred.__round__(5), '{' +str(pred.__round__(0)) + '}')\n",
    "            #print('Meaning the model is ' + str(pred.__round__(2)*100) + '% of it being 1')\n",
    "        print(correct, '/', fnames.__len__())\n",
    "        overall[0] += correct\n",
    "print('Overall accuracy of', (overall[0]/overall[1]*100).__round__(2),'%')\n",
    "print('(%s/%s)' % (overall[0], overall[1]))\n",
    "    \n",
    "\n",
    "\n",
    "\n",
    "\n"
   ],
   "metadata": {
    "collapsed": false,
    "pycharm": {
     "name": "#%%\n"
    }
   }
  }
 ],
 "metadata": {
  "language_info": {
   "codemirror_mode": {
    "name": "ipython",
    "version": 2
   },
   "file_extension": ".py",
   "mimetype": "text/x-python",
   "name": "python",
   "nbconvert_exporter": "python",
   "pygments_lexer": "ipython2",
   "version": "2.7.6"
  },
  "kernelspec": {
   "name": "python3",
   "language": "python",
   "display_name": "Python 3"
  }
 },
 "nbformat": 4,
 "nbformat_minor": 0
}