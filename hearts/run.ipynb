{
 "cells": [
  {
   "cell_type": "code",
   "execution_count": 1,
   "metadata": {
    "collapsed": true,
    "pycharm": {
     "is_executing": false
    }
   },
   "outputs": [
    {
     "name": "stdout",
     "text": [
      "Hearts engine initlised\nPlayer 0 's hand\n [[0. 1. 0. 0. 1. 1. 0. 0. 0. 0. 1. 0. 0. 0.]\n [0. 0. 0. 1. 0. 0. 0. 0. 0. 0. 0. 0. 0. 0.]\n [0. 1. 0. 1. 0. 0. 0. 0. 0. 1. 0. 0. 0. 0.]\n [0. 0. 0. 0. 1. 1. 0. 1. 0. 0. 0. 0. 1. 1.]]\nPlayer 1 's hand\n [[0. 0. 0. 0. 0. 0. 1. 1. 1. 0. 0. 1. 1. 0.]\n [0. 1. 0. 0. 0. 1. 0. 0. 0. 0. 0. 0. 0. 1.]\n [0. 0. 0. 0. 1. 0. 0. 0. 1. 0. 0. 0. 0. 0.]\n [0. 0. 0. 0. 0. 0. 0. 0. 0. 1. 1. 1. 0. 0.]]\nPlayer 2 's hand\n [[0. 0. 1. 0. 0. 0. 0. 0. 0. 1. 0. 0. 0. 1.]\n [0. 0. 1. 0. 0. 0. 0. 1. 0. 0. 0. 1. 0. 0.]\n [0. 0. 0. 0. 0. 0. 0. 1. 0. 0. 0. 1. 1. 1.]\n [0. 1. 0. 0. 0. 0. 1. 0. 1. 0. 0. 0. 0. 0.]]\nPlayer 3 's hand\n [[0. 0. 0. 1. 0. 0. 0. 0. 0. 0. 0. 0. 0. 0.]\n [0. 0. 0. 0. 1. 0. 1. 0. 1. 1. 1. 0. 1. 0.]\n [0. 0. 1. 0. 0. 1. 1. 0. 0. 0. 1. 0. 0. 0.]\n [0. 0. 1. 1. 0. 0. 0. 0. 0. 0. 0. 0. 0. 0.]]\n"
     ],
     "output_type": "stream"
    }
   ],
   "source": [
    "# d6617\n",
    "# The code to run the system. Cause jupyter is just..... better\n",
    "\n",
    "from environment import Simulator\n",
    "from lowest_alg import Lowest\n",
    "\n",
    "lowest = Lowest()\n",
    "\n",
    "players = 4\n",
    "algs = [lowest, lowest, lowest, lowest]\n",
    "\n",
    "sim = Simulator(players=4)\n",
    "sim.load_algorithms(algs)\n"
   ]
  },
  {
   "cell_type": "code",
   "execution_count": 2,
   "outputs": [
    {
     "name": "stdout",
     "text": [
      "\n#--- ROUND 1\n$--- Player Turn 0\nCards:\n [[0. 1. 0. 0. 1. 1. 0. 0. 0. 0. 1. 0. 0. 0.]\n [0. 0. 0. 1. 0. 0. 0. 0. 0. 0. 0. 0. 0. 0.]\n [0. 1. 0. 1. 0. 0. 0. 0. 0. 1. 0. 0. 0. 0.]\n [0. 0. 0. 0. 1. 1. 0. 1. 0. 0. 0. 0. 1. 1.]]\nChoose (0, 1)\n$--- CARDS Played [1, 1]\n$--- Player Turn 1\nState of (2, 1, array([0., 0., 0., 0., 0., 0., 1., 1., 1., 0., 0., 1., 1., 0.]))\n*---LOWEST---*\nOf cards [0. 0. 0. 0. 0. 0. 1. 1. 1. 0. 0. 1. 1. 0.] choosing lowest card of 6\n$--- CARDS Played [1, 1, 6]\n$--- Player Turn 2\nState of (3, 6, array([0., 0., 1., 0., 0., 0., 0., 0., 0., 1., 0., 0., 0., 1.]))\n*---LOWEST---*\nOf cards [0. 0. 1. 0. 0. 0. 0. 0. 0. 1. 0. 0. 0. 1.] choosing lowest card of 2\n$--- CARDS Played [1, 1, 6, 2]\n$--- Player Turn 3\nState of (4, 6, array([0., 0., 0., 1., 0., 0., 0., 0., 0., 0., 0., 0., 0., 0.]))\n*---LOWEST---*\nOf cards [0. 0. 0. 1. 0. 0. 0. 0. 0. 0. 0. 0. 0. 0.] choosing lowest card of 3\n$--- CARDS Played [1, 1, 6, 2, 3]\n\n#--- ROUND 2\n$--- Player Turn 0\nCards:\n [[0. 0. 0. 0. 1. 1. 0. 0. 0. 0. 1. 0. 0. 0.]\n [0. 0. 0. 1. 0. 0. 0. 0. 0. 0. 0. 0. 0. 0.]\n [0. 1. 0. 1. 0. 0. 0. 0. 0. 1. 0. 0. 0. 0.]\n [0. 0. 0. 0. 1. 1. 0. 1. 0. 0. 0. 0. 1. 1.]]\nChoose (2, 1)\n$--- CARDS Played [1, 1]\n$--- Player Turn 1\nState of (2, 1, array([0., 0., 0., 0., 1., 0., 0., 0., 1., 0., 0., 0., 0., 0.]))\n*---LOWEST---*\nOf cards [0. 0. 0. 0. 1. 0. 0. 0. 1. 0. 0. 0. 0. 0.] choosing lowest card of 4\n$--- CARDS Played [1, 1, 4]\n$--- Player Turn 2\nState of (3, 4, array([0., 0., 0., 0., 0., 0., 0., 1., 0., 0., 0., 1., 1., 1.]))\n*---LOWEST---*\nOf cards [0. 0. 0. 0. 0. 0. 0. 1. 0. 0. 0. 1. 1. 1.] choosing lowest card of 7\n$--- CARDS Played [1, 1, 4, 7]\n$--- Player Turn 3\nState of (4, 7, array([0., 0., 1., 0., 0., 1., 1., 0., 0., 0., 1., 0., 0., 0.]))\n*---LOWEST---*\nOf cards [0. 0. 1. 0. 0. 1. 1. 0. 0. 0. 1. 0. 0. 0.] choosing lowest card of 2\n$--- CARDS Played [1, 1, 4, 7, 2]\n\n#--- ROUND 3\n$--- Player Turn 0\nCards:\n [[0. 0. 0. 0. 1. 1. 0. 0. 0. 0. 1. 0. 0. 0.]\n [0. 0. 0. 1. 0. 0. 0. 0. 0. 0. 0. 0. 0. 0.]\n [0. 0. 0. 1. 0. 0. 0. 0. 0. 1. 0. 0. 0. 0.]\n [0. 0. 0. 0. 1. 1. 0. 1. 0. 0. 0. 0. 1. 1.]]\nChoose (1, 3)\n$--- CARDS Played [3, 3]\n$--- Player Turn 1\nState of (2, 3, array([0., 1., 0., 0., 0., 1., 0., 0., 0., 0., 0., 0., 0., 1.]))\n*---LOWEST---*\nOf cards [0. 1. 0. 0. 0. 1. 0. 0. 0. 0. 0. 0. 0. 1.] choosing lowest card of 1\n$--- CARDS Played [3, 3, 1]\n$--- Player Turn 2\nState of (3, 3, array([0., 0., 1., 0., 0., 0., 0., 1., 0., 0., 0., 1., 0., 0.]))\n*---LOWEST---*\nOf cards [0. 0. 1. 0. 0. 0. 0. 1. 0. 0. 0. 1. 0. 0.] choosing lowest card of 2\n$--- CARDS Played [3, 3, 1, 2]\n$--- Player Turn 3\nState of (4, 3, array([0., 0., 0., 0., 1., 0., 1., 0., 1., 1., 1., 0., 1., 0.]))\n*---LOWEST---*\nOf cards [0. 0. 0. 0. 1. 0. 1. 0. 1. 1. 1. 0. 1. 0.] choosing lowest card of 4\n$--- CARDS Played [3, 3, 1, 2, 4]\n\n#--- ROUND 4\n$--- Player Turn 0\nCards:\n [[0. 0. 0. 0. 1. 1. 0. 0. 0. 0. 1. 0. 0. 0.]\n [0. 0. 0. 0. 0. 0. 0. 0. 0. 0. 0. 0. 0. 0.]\n [0. 0. 0. 1. 0. 0. 0. 0. 0. 1. 0. 0. 0. 0.]\n [0. 0. 0. 0. 1. 1. 0. 1. 0. 0. 0. 0. 1. 1.]]\nChoose (2, 3)\n$--- CARDS Played [3, 3]\n$--- Player Turn 1\nState of (2, 3, array([0., 0., 0., 0., 0., 0., 0., 0., 1., 0., 0., 0., 0., 0.]))\n*---LOWEST---*\nOf cards [0. 0. 0. 0. 0. 0. 0. 0. 1. 0. 0. 0. 0. 0.] choosing lowest card of 8\n$--- CARDS Played [3, 3, 8]\n$--- Player Turn 2\nState of (3, 8, array([0., 0., 0., 0., 0., 0., 0., 0., 0., 0., 0., 1., 1., 1.]))\n*---LOWEST---*\nOf cards [0. 0. 0. 0. 0. 0. 0. 0. 0. 0. 0. 1. 1. 1.] choosing lowest card of 11\n$--- CARDS Played [3, 3, 8, 11]\n$--- Player Turn 3\nState of (4, 11, array([0., 0., 0., 0., 0., 1., 1., 0., 0., 0., 1., 0., 0., 0.]))\n*---LOWEST---*\nOf cards [0. 0. 0. 0. 0. 1. 1. 0. 0. 0. 1. 0. 0. 0.] choosing lowest card of 5\n$--- CARDS Played [3, 3, 8, 11, 5]\n\n#--- ROUND 5\n$--- Player Turn 0\nCards:\n [[0. 0. 0. 0. 1. 1. 0. 0. 0. 0. 1. 0. 0. 0.]\n [0. 0. 0. 0. 0. 0. 0. 0. 0. 0. 0. 0. 0. 0.]\n [0. 0. 0. 0. 0. 0. 0. 0. 0. 1. 0. 0. 0. 0.]\n [0. 0. 0. 0. 1. 1. 0. 1. 0. 0. 0. 0. 1. 1.]]\nChoose (0, 4)\n$--- CARDS Played [4, 4]\n$--- Player Turn 1\nState of (2, 4, array([0., 0., 0., 0., 0., 0., 0., 1., 1., 0., 0., 1., 1., 0.]))\n*---LOWEST---*\nOf cards [0. 0. 0. 0. 0. 0. 0. 1. 1. 0. 0. 1. 1. 0.] choosing lowest card of 7\n$--- CARDS Played [4, 4, 7]\n$--- Player Turn 2\nState of (3, 7, array([0., 0., 0., 0., 0., 0., 0., 0., 0., 1., 0., 0., 0., 1.]))\n*---LOWEST---*\nOf cards [0. 0. 0. 0. 0. 0. 0. 0. 0. 1. 0. 0. 0. 1.] choosing lowest card of 9\n$--- CARDS Played [4, 4, 7, 9]\n$--- Player Turn 3\nState of (4, 9, array([0., 0., 0., 0., 0., 0., 0., 0., 0., 0., 0., 0., 0., 0.]))\n*---LOWEST---*\nOf cards [0. 0. 0. 0. 0. 0. 0. 0. 0. 0. 0. 0. 0. 0.] choosing lowest card of 0\n$--- CARDS Played [4, 4, 7, 9, 0]\n\n#--- ROUND 6\n$--- Player Turn 0\nCards:\n [[0. 0. 0. 0. 0. 1. 0. 0. 0. 0. 1. 0. 0. 0.]\n [0. 0. 0. 0. 0. 0. 0. 0. 0. 0. 0. 0. 0. 0.]\n [0. 0. 0. 0. 0. 0. 0. 0. 0. 1. 0. 0. 0. 0.]\n [0. 0. 0. 0. 1. 1. 0. 1. 0. 0. 0. 0. 1. 1.]]\nChoose (3, 4)\n$--- CARDS Played [4, 4]\n$--- Player Turn 1\nState of (2, 4, array([0., 0., 0., 0., 0., 0., 0., 0., 0., 1., 1., 1., 0., 0.]))\n*---LOWEST---*\nOf cards [0. 0. 0. 0. 0. 0. 0. 0. 0. 1. 1. 1. 0. 0.] choosing lowest card of 9\n$--- CARDS Played [4, 4, 9]\n$--- Player Turn 2\nState of (3, 9, array([0., 1., 0., 0., 0., 0., 1., 0., 1., 0., 0., 0., 0., 0.]))\n*---LOWEST---*\nOf cards [0. 1. 0. 0. 0. 0. 1. 0. 1. 0. 0. 0. 0. 0.] choosing lowest card of 1\n$--- CARDS Played [4, 4, 9, 1]\n$--- Player Turn 3\nState of (4, 9, array([0., 0., 1., 1., 0., 0., 0., 0., 0., 0., 0., 0., 0., 0.]))\n*---LOWEST---*\nOf cards [0. 0. 1. 1. 0. 0. 0. 0. 0. 0. 0. 0. 0. 0.] choosing lowest card of 2\n$--- CARDS Played [4, 4, 9, 1, 2]\n\n#--- ROUND 7\n$--- Player Turn 0\nCards:\n [[0. 0. 0. 0. 0. 1. 0. 0. 0. 0. 1. 0. 0. 0.]\n [0. 0. 0. 0. 0. 0. 0. 0. 0. 0. 0. 0. 0. 0.]\n [0. 0. 0. 0. 0. 0. 0. 0. 0. 1. 0. 0. 0. 0.]\n [0. 0. 0. 0. 0. 1. 0. 1. 0. 0. 0. 0. 1. 1.]]\nChoose (0, 5)\n$--- CARDS Played [5, 5]\n$--- Player Turn 1\nState of (2, 5, array([0., 0., 0., 0., 0., 0., 0., 0., 1., 0., 0., 1., 1., 0.]))\n*---LOWEST---*\nOf cards [0. 0. 0. 0. 0. 0. 0. 0. 1. 0. 0. 1. 1. 0.] choosing lowest card of 8\n$--- CARDS Played [5, 5, 8]\n$--- Player Turn 2\nState of (3, 8, array([0., 0., 0., 0., 0., 0., 0., 0., 0., 0., 0., 0., 0., 1.]))\n*---LOWEST---*\nOf cards [0. 0. 0. 0. 0. 0. 0. 0. 0. 0. 0. 0. 0. 1.] choosing lowest card of 13\n$--- CARDS Played [5, 5, 8, 13]\n$--- Player Turn 3\nState of (4, 13, array([0., 0., 0., 0., 0., 0., 0., 0., 0., 0., 0., 0., 0., 0.]))\n*---LOWEST---*\nOf cards [0. 0. 0. 0. 0. 0. 0. 0. 0. 0. 0. 0. 0. 0.] choosing lowest card of 0\n$--- CARDS Played [5, 5, 8, 13, 0]\n\n#--- ROUND 8\n$--- Player Turn 0\nCards:\n [[0. 0. 0. 0. 0. 0. 0. 0. 0. 0. 1. 0. 0. 0.]\n [0. 0. 0. 0. 0. 0. 0. 0. 0. 0. 0. 0. 0. 0.]\n [0. 0. 0. 0. 0. 0. 0. 0. 0. 1. 0. 0. 0. 0.]\n [0. 0. 0. 0. 0. 1. 0. 1. 0. 0. 0. 0. 1. 1.]]\nChoose (3, 5)\n$--- CARDS Played [5, 5]\n$--- Player Turn 1\nState of (2, 5, array([0., 0., 0., 0., 0., 0., 0., 0., 0., 0., 1., 1., 0., 0.]))\n*---LOWEST---*\nOf cards [0. 0. 0. 0. 0. 0. 0. 0. 0. 0. 1. 1. 0. 0.] choosing lowest card of 10\n$--- CARDS Played [5, 5, 10]\n$--- Player Turn 2\nState of (3, 10, array([0., 0., 0., 0., 0., 0., 1., 0., 1., 0., 0., 0., 0., 0.]))\n*---LOWEST---*\nOf cards [0. 0. 0. 0. 0. 0. 1. 0. 1. 0. 0. 0. 0. 0.] choosing lowest card of 6\n$--- CARDS Played [5, 5, 10, 6]\n$--- Player Turn 3\nState of (4, 10, array([0., 0., 0., 1., 0., 0., 0., 0., 0., 0., 0., 0., 0., 0.]))\n*---LOWEST---*\nOf cards [0. 0. 0. 1. 0. 0. 0. 0. 0. 0. 0. 0. 0. 0.] choosing lowest card of 3\n$--- CARDS Played [5, 5, 10, 6, 3]\n\n#--- ROUND 9\n$--- Player Turn 0\nCards:\n [[0. 0. 0. 0. 0. 0. 0. 0. 0. 0. 1. 0. 0. 0.]\n [0. 0. 0. 0. 0. 0. 0. 0. 0. 0. 0. 0. 0. 0.]\n [0. 0. 0. 0. 0. 0. 0. 0. 0. 1. 0. 0. 0. 0.]\n [0. 0. 0. 0. 0. 0. 0. 1. 0. 0. 0. 0. 1. 1.]]\nChoose (3, 7)\n$--- CARDS Played [7, 7]\n$--- Player Turn 1\nState of (2, 7, array([0., 0., 0., 0., 0., 0., 0., 0., 0., 0., 0., 1., 0., 0.]))\n*---LOWEST---*\nOf cards [0. 0. 0. 0. 0. 0. 0. 0. 0. 0. 0. 1. 0. 0.] choosing lowest card of 11\n$--- CARDS Played [7, 7, 11]\n$--- Player Turn 2\nState of (3, 11, array([0., 0., 0., 0., 0., 0., 0., 0., 1., 0., 0., 0., 0., 0.]))\n*---LOWEST---*\nOf cards [0. 0. 0. 0. 0. 0. 0. 0. 1. 0. 0. 0. 0. 0.] choosing lowest card of 8\n$--- CARDS Played [7, 7, 11, 8]\n$--- Player Turn 3\nState of (4, 11, array([0., 0., 0., 0., 0., 0., 0., 0., 0., 0., 0., 0., 0., 0.]))\n*---LOWEST---*\nOf cards [0. 0. 0. 0. 0. 0. 0. 0. 0. 0. 0. 0. 0. 0.] choosing lowest card of 0\n$--- CARDS Played [7, 7, 11, 8, 0]\n\n#--- ROUND 10\n$--- Player Turn 0\nCards:\n [[0. 0. 0. 0. 0. 0. 0. 0. 0. 0. 1. 0. 0. 0.]\n [0. 0. 0. 0. 0. 0. 0. 0. 0. 0. 0. 0. 0. 0.]\n [0. 0. 0. 0. 0. 0. 0. 0. 0. 1. 0. 0. 0. 0.]\n [0. 0. 0. 0. 0. 0. 0. 0. 0. 0. 0. 0. 1. 1.]]\nChoose (2, 9)\n$--- CARDS Played [9, 9]\n$--- Player Turn 1\nState of (2, 9, array([0., 0., 0., 0., 0., 0., 0., 0., 0., 0., 0., 0., 0., 0.]))\n*---LOWEST---*\nOf cards [0. 0. 0. 0. 0. 0. 0. 0. 0. 0. 0. 0. 0. 0.] choosing lowest card of 0\n$--- CARDS Played [9, 9, 0]\n$--- Player Turn 2\nState of (3, 9, array([0., 0., 0., 0., 0., 0., 0., 0., 0., 0., 0., 0., 1., 1.]))\n*---LOWEST---*\nOf cards [0. 0. 0. 0. 0. 0. 0. 0. 0. 0. 0. 0. 1. 1.] choosing lowest card of 12\n$--- CARDS Played [9, 9, 0, 12]\n$--- Player Turn 3\nState of (4, 12, array([0., 0., 0., 0., 0., 0., 1., 0., 0., 0., 1., 0., 0., 0.]))\n*---LOWEST---*\nOf cards [0. 0. 0. 0. 0. 0. 1. 0. 0. 0. 1. 0. 0. 0.] choosing lowest card of 6\n$--- CARDS Played [9, 9, 0, 12, 6]\n\n#--- ROUND 11\n$--- Player Turn 0\nCards:\n [[0. 0. 0. 0. 0. 0. 0. 0. 0. 0. 1. 0. 0. 0.]\n [0. 0. 0. 0. 0. 0. 0. 0. 0. 0. 0. 0. 0. 0.]\n [0. 0. 0. 0. 0. 0. 0. 0. 0. 0. 0. 0. 0. 0.]\n [0. 0. 0. 0. 0. 0. 0. 0. 0. 0. 0. 0. 1. 1.]]\nChoose (0, 10)\n$--- CARDS Played [10, 10]\n$--- Player Turn 1\nState of (2, 10, array([0., 0., 0., 0., 0., 0., 0., 0., 0., 0., 0., 1., 1., 0.]))\n*---LOWEST---*\nOf cards [0. 0. 0. 0. 0. 0. 0. 0. 0. 0. 0. 1. 1. 0.] choosing lowest card of 11\n$--- CARDS Played [10, 10, 11]\n$--- Player Turn 2\nState of (3, 11, array([0., 0., 0., 0., 0., 0., 0., 0., 0., 0., 0., 0., 0., 0.]))\n*---LOWEST---*\nOf cards [0. 0. 0. 0. 0. 0. 0. 0. 0. 0. 0. 0. 0. 0.] choosing lowest card of 0\n$--- CARDS Played [10, 10, 11, 0]\n$--- Player Turn 3\nState of (4, 11, array([0., 0., 0., 0., 0., 0., 0., 0., 0., 0., 0., 0., 0., 0.]))\n*---LOWEST---*\nOf cards [0. 0. 0. 0. 0. 0. 0. 0. 0. 0. 0. 0. 0. 0.] choosing lowest card of 0\n$--- CARDS Played [10, 10, 11, 0, 0]\n\n#--- ROUND 12\n$--- Player Turn 0\nCards:\n [[0. 0. 0. 0. 0. 0. 0. 0. 0. 0. 0. 0. 0. 0.]\n [0. 0. 0. 0. 0. 0. 0. 0. 0. 0. 0. 0. 0. 0.]\n [0. 0. 0. 0. 0. 0. 0. 0. 0. 0. 0. 0. 0. 0.]\n [0. 0. 0. 0. 0. 0. 0. 0. 0. 0. 0. 0. 1. 1.]]\nChoose (3, 12)\n$--- CARDS Played [12, 12]\n$--- Player Turn 1\nState of (2, 12, array([0., 0., 0., 0., 0., 0., 0., 0., 0., 0., 0., 0., 0., 0.]))\n*---LOWEST---*\nOf cards [0. 0. 0. 0. 0. 0. 0. 0. 0. 0. 0. 0. 0. 0.] choosing lowest card of 0\n$--- CARDS Played [12, 12, 0]\n$--- Player Turn 2\nState of (3, 12, array([0., 0., 0., 0., 0., 0., 0., 0., 0., 0., 0., 0., 0., 0.]))\n*---LOWEST---*\nOf cards [0. 0. 0. 0. 0. 0. 0. 0. 0. 0. 0. 0. 0. 0.] choosing lowest card of 0\n$--- CARDS Played [12, 12, 0, 0]\n$--- Player Turn 3\nState of (4, 12, array([0., 0., 0., 0., 0., 0., 0., 0., 0., 0., 0., 0., 0., 0.]))\n*---LOWEST---*\nOf cards [0. 0. 0. 0. 0. 0. 0. 0. 0. 0. 0. 0. 0. 0.] choosing lowest card of 0\n$--- CARDS Played [12, 12, 0, 0, 0]\n\n#--- ROUND 13\n$--- Player Turn 0\nCards:\n [[0. 0. 0. 0. 0. 0. 0. 0. 0. 0. 0. 0. 0. 0.]\n [0. 0. 0. 0. 0. 0. 0. 0. 0. 0. 0. 0. 0. 0.]\n [0. 0. 0. 0. 0. 0. 0. 0. 0. 0. 0. 0. 0. 0.]\n [0. 0. 0. 0. 0. 0. 0. 0. 0. 0. 0. 0. 0. 1.]]\nChoose (3, 13)\n$--- CARDS Played [13, 13]\n$--- Player Turn 1\nState of (2, 13, array([0., 0., 0., 0., 0., 0., 0., 0., 0., 0., 0., 0., 0., 0.]))\n*---LOWEST---*\nOf cards [0. 0. 0. 0. 0. 0. 0. 0. 0. 0. 0. 0. 0. 0.] choosing lowest card of 0\n$--- CARDS Played [13, 13, 0]\n$--- Player Turn 2\nState of (3, 13, array([0., 0., 0., 0., 0., 0., 0., 0., 0., 0., 0., 0., 0., 0.]))\n*---LOWEST---*\nOf cards [0. 0. 0. 0. 0. 0. 0. 0. 0. 0. 0. 0. 0. 0.] choosing lowest card of 0\n$--- CARDS Played [13, 13, 0, 0]\n$--- Player Turn 3\nState of (4, 13, array([0., 0., 0., 0., 0., 0., 0., 0., 0., 0., 0., 0., 0., 0.]))\n*---LOWEST---*\nOf cards [0. 0. 0. 0. 0. 0. 0. 0. 0. 0. 0. 0. 0. 0.] choosing lowest card of 0\n$--- CARDS Played [13, 13, 0, 0, 0]\n"
     ],
     "output_type": "stream"
    }
   ],
   "source": [
    "starting_player = 0  # make this ace of clubs eventually\n",
    "done = False\n",
    "i = 1\n",
    "\n",
    "while i < 14:\n",
    "    print('\\n#--- ROUND', i)\n",
    "    #sim.print_cards()\n",
    "    # For each round:\n",
    "    # For each player in round\n",
    "    # Choose an action depending on the state\n",
    "    # Do the action\n",
    "    # Compute the reward\n",
    "    # (Q table modification if applicable)\n",
    "    # Change new state, to current state\n",
    "    # Compute points\n",
    "    print('$--- Player Turn', starting_player)\n",
    "    suit, card = sim.init_state(starting_player)\n",
    "    sim.step(starting_player, card)\n",
    "    move = 1\n",
    "    \n",
    "    \n",
    "    while move < players:\n",
    "        # So only a certain number of moves\n",
    "        \n",
    "        turn = starting_player + move\n",
    "        if turn > 3:\n",
    "            turn -= 4  # Loop back around\n",
    "        print('$--- Player Turn', turn)\n",
    "        \n",
    "        s = sim.gen_state(turn)\n",
    "        print('State of', s)\n",
    "        \n",
    "        a = sim.choose(turn, s)  # Make a decision\n",
    "        sim.step(turn, a)  # play that decision\n",
    "\n",
    "        move += 1\n",
    "    \n",
    "    i += 1"
   ],
   "metadata": {
    "collapsed": false,
    "pycharm": {
     "name": "#%%\n",
     "is_executing": false
    }
   }
  },
  {
   "cell_type": "code",
   "execution_count": 4,
   "outputs": [
    {
     "name": "stdout",
     "text": [
      "Cards:\n [[0. 0. 0. 0. 1. 0. 1. 0. 0. 1. 0. 0. 0. 0.]\n [0. 1. 0. 1. 0. 0. 1. 0. 0. 0. 1. 0. 0. 0.]\n [0. 0. 0. 0. 0. 0. 0. 1. 1. 0. 0. 0. 1. 0.]\n [0. 0. 0. 0. 1. 0. 0. 0. 0. 1. 0. 0. 1. 0.]]\nChoose (1, 1)\n"
     ],
     "output_type": "stream"
    },
    {
     "data": {
      "text/plain": "(1, 1)"
     },
     "metadata": {},
     "output_type": "execute_result",
     "execution_count": 4
    }
   ],
   "source": [],
   "metadata": {
    "collapsed": false,
    "pycharm": {
     "name": "#%%\n",
     "is_executing": false
    }
   }
  }
 ],
 "metadata": {
  "language_info": {
   "codemirror_mode": {
    "name": "ipython",
    "version": 2
   },
   "file_extension": ".py",
   "mimetype": "text/x-python",
   "name": "python",
   "nbconvert_exporter": "python",
   "pygments_lexer": "ipython2",
   "version": "2.7.6"
  },
  "kernelspec": {
   "name": "python3",
   "language": "python",
   "display_name": "Python 3"
  },
  "pycharm": {
   "stem_cell": {
    "cell_type": "raw",
    "source": [],
    "metadata": {
     "collapsed": false
    }
   }
  }
 },
 "nbformat": 4,
 "nbformat_minor": 0
}