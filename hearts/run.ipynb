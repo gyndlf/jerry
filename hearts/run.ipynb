{
 "cells": [
  {
   "cell_type": "code",
   "execution_count": 1,
   "metadata": {
    "collapsed": true,
    "pycharm": {
     "is_executing": false
    }
   },
   "outputs": [
    {
     "name": "stdout",
     "text": [
      "Hearts engine initlised\nPlayer 0 's hand [[0. 0. 0. 0. 0. 0. 0. 0. 1. 0. 1. 0. 0. 1.]\n [0. 0. 0. 0. 0. 0. 0. 0. 0. 0. 1. 0. 0. 0.]\n [0. 1. 0. 0. 0. 0. 0. 0. 0. 0. 1. 0. 0. 0.]\n [0. 0. 1. 0. 0. 0. 1. 1. 1. 1. 1. 1. 0. 0.]]\nPlayer 1 's hand [[0. 1. 0. 0. 0. 0. 1. 1. 0. 1. 0. 0. 0. 0.]\n [0. 0. 0. 0. 0. 0. 0. 1. 0. 0. 0. 1. 1. 0.]\n [0. 0. 1. 0. 1. 1. 0. 0. 0. 0. 0. 0. 1. 1.]\n [0. 1. 0. 0. 0. 0. 0. 0. 0. 0. 0. 0. 0. 0.]]\nPlayer 2 's hand [[0. 0. 1. 1. 1. 0. 0. 0. 0. 0. 0. 0. 0. 0.]\n [0. 0. 1. 0. 0. 1. 0. 0. 1. 0. 0. 0. 0. 1.]\n [0. 0. 0. 0. 0. 0. 0. 1. 0. 1. 0. 0. 0. 0.]\n [0. 0. 0. 0. 1. 1. 0. 0. 0. 0. 0. 0. 1. 1.]]\nPlayer 3 's hand [[0. 0. 0. 0. 0. 1. 0. 0. 0. 0. 0. 1. 1. 0.]\n [0. 1. 0. 1. 1. 0. 1. 0. 0. 1. 0. 0. 0. 0.]\n [0. 0. 0. 1. 0. 0. 1. 0. 1. 0. 0. 1. 0. 0.]\n [0. 0. 0. 1. 0. 0. 0. 0. 0. 0. 0. 0. 0. 0.]]\n"
     ],
     "output_type": "stream"
    }
   ],
   "source": [
    "# d6617\n",
    "# The code to run the system. Cause jupyter is just..... better\n",
    "\n",
    "from environment import Simulator\n",
    "from lowest_alg import Lowest\n",
    "\n",
    "lowest = Lowest()\n",
    "\n",
    "players = 4\n",
    "algs = [lowest, lowest, lowest, lowest]\n",
    "\n",
    "sim = Simulator(players=4)\n",
    "sim.load_algorithms(algs)\n"
   ]
  },
  {
   "cell_type": "code",
   "execution_count": 2,
   "outputs": [
    {
     "name": "stdout",
     "text": [
      "#--- ROUND 1\nCards: [[0. 0. 0. 0. 0. 0. 0. 0. 1. 0. 1. 0. 0. 1.]\n [0. 0. 0. 0. 0. 0. 0. 0. 0. 0. 1. 0. 0. 0.]\n [0. 1. 0. 0. 0. 0. 0. 0. 0. 0. 1. 0. 0. 0.]\n [0. 0. 1. 0. 0. 0. 1. 1. 1. 1. 1. 1. 0. 0.]]\n0\n1\nChoose 2 1\nwhich is 27\nplayer 0 turn\n"
     ],
     "output_type": "stream"
    },
    {
     "traceback": [
      "\u001b[0;31m---------------------------------------------------------------------------\u001b[0m",
      "\u001b[0;31mIndexError\u001b[0m                                Traceback (most recent call last)",
      "\u001b[0;32m<ipython-input-2-7555fb34a3b0>\u001b[0m in \u001b[0;36m<module>\u001b[0;34m\u001b[0m\n\u001b[1;32m     20\u001b[0m     \u001b[0;32mfor\u001b[0m \u001b[0mplayer\u001b[0m \u001b[0;32min\u001b[0m \u001b[0mrange\u001b[0m\u001b[0;34m(\u001b[0m\u001b[0mplayers\u001b[0m\u001b[0;34m)\u001b[0m\u001b[0;34m:\u001b[0m\u001b[0;34m\u001b[0m\u001b[0m\n\u001b[1;32m     21\u001b[0m         \u001b[0mprint\u001b[0m\u001b[0;34m(\u001b[0m\u001b[0;34m'player'\u001b[0m\u001b[0;34m,\u001b[0m \u001b[0mplayer\u001b[0m\u001b[0;34m,\u001b[0m \u001b[0;34m'turn'\u001b[0m\u001b[0;34m)\u001b[0m\u001b[0;34m\u001b[0m\u001b[0m\n\u001b[0;32m---> 22\u001b[0;31m         \u001b[0maction\u001b[0m \u001b[0;34m=\u001b[0m \u001b[0msim\u001b[0m\u001b[0;34m.\u001b[0m\u001b[0malgs\u001b[0m\u001b[0;34m[\u001b[0m\u001b[0mplayer\u001b[0m\u001b[0;34m]\u001b[0m\u001b[0;34m.\u001b[0m\u001b[0mthink\u001b[0m\u001b[0;34m(\u001b[0m\u001b[0ms\u001b[0m\u001b[0;34m)\u001b[0m\u001b[0;34m\u001b[0m\u001b[0m\n\u001b[0m\u001b[1;32m     23\u001b[0m \u001b[0;34m\u001b[0m\u001b[0m\n\u001b[1;32m     24\u001b[0m \u001b[0;34m\u001b[0m\u001b[0m\n",
      "\u001b[0;32m~/PycharmProjects/jerry/hearts/lowest_alg.py\u001b[0m in \u001b[0;36mthink\u001b[0;34m(self, observation)\u001b[0m\n\u001b[1;32m     11\u001b[0m         \u001b[0;31m# Takes inputs, returns action\u001b[0m\u001b[0;34m\u001b[0m\u001b[0;34m\u001b[0m\u001b[0m\n\u001b[1;32m     12\u001b[0m         \u001b[0;31m# observation = (num cards played, highest card played, my cards)\u001b[0m\u001b[0;34m\u001b[0m\u001b[0;34m\u001b[0m\u001b[0m\n\u001b[0;32m---> 13\u001b[0;31m         \u001b[0mcards\u001b[0m \u001b[0;34m=\u001b[0m \u001b[0mobservation\u001b[0m\u001b[0;34m[\u001b[0m\u001b[0;36m2\u001b[0m\u001b[0;34m]\u001b[0m  \u001b[0;31m# only 1 suit\u001b[0m\u001b[0;34m\u001b[0m\u001b[0m\n\u001b[0m\u001b[1;32m     14\u001b[0m         \u001b[0mchoice\u001b[0m \u001b[0;34m=\u001b[0m \u001b[0mnp\u001b[0m\u001b[0;34m.\u001b[0m\u001b[0margmax\u001b[0m\u001b[0;34m(\u001b[0m\u001b[0mcards\u001b[0m\u001b[0;34m)\u001b[0m  \u001b[0;31m# array of 1's and 0's\u001b[0m\u001b[0;34m\u001b[0m\u001b[0m\n\u001b[1;32m     15\u001b[0m         \u001b[0mprint\u001b[0m\u001b[0;34m(\u001b[0m\u001b[0;34m'*---LOWEST---*'\u001b[0m\u001b[0;34m)\u001b[0m\u001b[0;34m\u001b[0m\u001b[0m\n",
      "\u001b[0;31mIndexError\u001b[0m: invalid index to scalar variable."
     ],
     "ename": "IndexError",
     "evalue": "invalid index to scalar variable.",
     "output_type": "error"
    }
   ],
   "source": [
    "starting_player = 0  # make this ace of clubs eventually\n",
    "done = False\n",
    "i = 1\n",
    "\n",
    "while not done:\n",
    "    print('#--- ROUND', i)\n",
    "    # For each round:\n",
    "    # For each player in round\n",
    "    \n",
    "    # Choose an action depending on the state\n",
    "    # Do the action\n",
    "    # Compute the reward\n",
    "    # (Q table modification if applicable)\n",
    "    # Change new state, to current state\n",
    "    \n",
    "    # Compute points\n",
    "    \n",
    "    s = sim.init_state(starting_player)\n",
    "    \n",
    "    for player in range(players):\n",
    "        print('player', player, 'turn')\n",
    "        action = sim.algs[player].think(s)\n",
    "    \n",
    "    \n",
    "    i += 1\n",
    "\n",
    "\n"
   ],
   "metadata": {
    "collapsed": false,
    "pycharm": {
     "name": "#%%\n",
     "is_executing": false
    }
   }
  }
 ],
 "metadata": {
  "language_info": {
   "codemirror_mode": {
    "name": "ipython",
    "version": 2
   },
   "file_extension": ".py",
   "mimetype": "text/x-python",
   "name": "python",
   "nbconvert_exporter": "python",
   "pygments_lexer": "ipython2",
   "version": "2.7.6"
  },
  "kernelspec": {
   "name": "python3",
   "language": "python",
   "display_name": "Python 3"
  },
  "pycharm": {
   "stem_cell": {
    "cell_type": "raw",
    "source": [],
    "metadata": {
     "collapsed": false
    }
   }
  }
 },
 "nbformat": 4,
 "nbformat_minor": 0
}