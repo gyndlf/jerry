{
 "cells": [
  {
   "cell_type": "code",
   "execution_count": 1,
   "metadata": {
    "collapsed": true,
    "pycharm": {
     "is_executing": false
    }
   },
   "outputs": [
    {
     "name": "stdout",
     "text": [
      "Hearts engine initlised\nPlayer 0 's hand\n [[0. 0. 0. 0. 1. 0. 0. 0. 1. 1. 0. 0. 1. 0.]\n [0. 0. 0. 0. 0. 1. 0. 0. 1. 0. 0. 0. 1. 0.]\n [0. 1. 0. 1. 1. 0. 0. 1. 1. 0. 0. 0. 0. 0.]\n [0. 0. 0. 0. 0. 0. 0. 0. 0. 0. 0. 1. 0. 0.]]\nPlayer 1 's hand\n [[0. 0. 0. 1. 0. 0. 0. 0. 0. 0. 0. 1. 0. 1.]\n [0. 0. 0. 0. 0. 0. 0. 0. 0. 1. 0. 0. 0. 1.]\n [0. 0. 1. 0. 0. 1. 1. 0. 0. 0. 1. 1. 0. 0.]\n [0. 0. 0. 0. 0. 1. 0. 0. 1. 0. 0. 0. 1. 0.]]\nPlayer 2 's hand\n [[0. 1. 0. 0. 0. 1. 1. 1. 0. 0. 0. 0. 0. 0.]\n [0. 0. 1. 1. 1. 0. 0. 0. 0. 0. 0. 1. 0. 0.]\n [0. 0. 0. 0. 0. 0. 0. 0. 0. 0. 0. 0. 0. 1.]\n [0. 1. 0. 1. 1. 0. 0. 0. 0. 0. 1. 0. 0. 0.]]\nPlayer 3 's hand\n [[0. 0. 1. 0. 0. 0. 0. 0. 0. 0. 1. 0. 0. 0.]\n [0. 1. 0. 0. 0. 0. 1. 1. 0. 0. 1. 0. 0. 0.]\n [0. 0. 0. 0. 0. 0. 0. 0. 0. 1. 0. 0. 1. 0.]\n [0. 0. 1. 0. 0. 0. 1. 1. 0. 1. 0. 0. 0. 1.]]\n"
     ],
     "output_type": "stream"
    }
   ],
   "source": [
    "# d6617\n",
    "# The code to run the system. Cause jupyter is just..... better\n",
    "\n",
    "from environment import Simulator\n",
    "from lowest_alg import Lowest\n",
    "\n",
    "lowest = Lowest()\n",
    "\n",
    "players = 4\n",
    "algs = [lowest, lowest, lowest, lowest]\n",
    "\n",
    "sim = Simulator(players=4)\n",
    "sim.load_algorithms(algs)\n"
   ]
  },
  {
   "cell_type": "code",
   "execution_count": 2,
   "outputs": [
    {
     "name": "stdout",
     "text": [
      "#--- ROUND 1\nPlayer 0 's hand\n [[0. 0. 0. 0. 1. 0. 0. 0. 1. 1. 0. 0. 1. 0.]\n [0. 0. 0. 0. 0. 1. 0. 0. 1. 0. 0. 0. 1. 0.]\n [0. 1. 0. 1. 1. 0. 0. 1. 1. 0. 0. 0. 0. 0.]\n [0. 0. 0. 0. 0. 0. 0. 0. 0. 0. 0. 1. 0. 0.]]\nPlayer 1 's hand\n [[0. 0. 0. 1. 0. 0. 0. 0. 0. 0. 0. 1. 0. 1.]\n [0. 0. 0. 0. 0. 0. 0. 0. 0. 1. 0. 0. 0. 1.]\n [0. 0. 1. 0. 0. 1. 1. 0. 0. 0. 1. 1. 0. 0.]\n [0. 0. 0. 0. 0. 1. 0. 0. 1. 0. 0. 0. 1. 0.]]\nPlayer 2 's hand\n [[0. 1. 0. 0. 0. 1. 1. 1. 0. 0. 0. 0. 0. 0.]\n [0. 0. 1. 1. 1. 0. 0. 0. 0. 0. 0. 1. 0. 0.]\n [0. 0. 0. 0. 0. 0. 0. 0. 0. 0. 0. 0. 0. 1.]\n [0. 1. 0. 1. 1. 0. 0. 0. 0. 0. 1. 0. 0. 0.]]\nPlayer 3 's hand\n [[0. 0. 1. 0. 0. 0. 0. 0. 0. 0. 1. 0. 0. 0.]\n [0. 1. 0. 0. 0. 0. 1. 1. 0. 0. 1. 0. 0. 0.]\n [0. 0. 0. 0. 0. 0. 0. 0. 0. 1. 0. 0. 1. 0.]\n [0. 0. 1. 0. 0. 0. 1. 1. 0. 1. 0. 0. 0. 1.]]\n$--- Player Turn 0\nCards:\n [[0. 0. 0. 0. 1. 0. 0. 0. 1. 1. 0. 0. 1. 0.]\n [0. 0. 0. 0. 0. 1. 0. 0. 1. 0. 0. 0. 1. 0.]\n [0. 1. 0. 1. 1. 0. 0. 1. 1. 0. 0. 0. 0. 0.]\n [0. 0. 0. 0. 0. 0. 0. 0. 0. 0. 0. 1. 0. 0.]]\nChoose (2, 1)\n$--- CARDS Played [1, 1]\n#--- MOVE 1\n$--- Player Turn 1\nState of (2, 1, array([0., 0., 1., 0., 0., 1., 1., 0., 0., 0., 1., 1., 0., 0.]))\n*---LOWEST---*\nOf cards [0. 0. 1. 0. 0. 1. 1. 0. 0. 0. 1. 1. 0. 0.] choosing lowest card of 2\n$--- CARDS Played [1, 1, 2]\n#--- MOVE 2\n$--- Player Turn 2\nState of (3, 2, array([0., 0., 0., 0., 0., 0., 0., 0., 0., 0., 0., 0., 0., 1.]))\n*---LOWEST---*\nOf cards [0. 0. 0. 0. 0. 0. 0. 0. 0. 0. 0. 0. 0. 1.] choosing lowest card of 13\n$--- CARDS Played [1, 1, 2, 13]\n#--- MOVE 3\n$--- Player Turn 3\nState of (4, 13, array([0., 0., 0., 0., 0., 0., 0., 0., 0., 1., 0., 0., 1., 0.]))\n*---LOWEST---*\nOf cards [0. 0. 0. 0. 0. 0. 0. 0. 0. 1. 0. 0. 1. 0.] choosing lowest card of 9\n$--- CARDS Played [1, 1, 2, 13, 9]\n#--- ROUND 2\nPlayer 0 's hand\n [[0. 0. 0. 0. 1. 0. 0. 0. 1. 1. 0. 0. 1. 0.]\n [0. 0. 0. 0. 0. 1. 0. 0. 1. 0. 0. 0. 1. 0.]\n [0. 0. 0. 1. 1. 0. 0. 1. 1. 0. 0. 0. 0. 0.]\n [0. 0. 0. 0. 0. 0. 0. 0. 0. 0. 0. 1. 0. 0.]]\nPlayer 1 's hand\n [[0. 0. 0. 1. 0. 0. 0. 0. 0. 0. 0. 1. 0. 1.]\n [0. 0. 0. 0. 0. 0. 0. 0. 0. 1. 0. 0. 0. 1.]\n [0. 0. 0. 0. 0. 1. 1. 0. 0. 0. 1. 1. 0. 0.]\n [0. 0. 0. 0. 0. 1. 0. 0. 1. 0. 0. 0. 1. 0.]]\nPlayer 2 's hand\n [[0. 1. 0. 0. 0. 1. 1. 1. 0. 0. 0. 0. 0. 0.]\n [0. 0. 1. 1. 1. 0. 0. 0. 0. 0. 0. 1. 0. 0.]\n [0. 0. 0. 0. 0. 0. 0. 0. 0. 0. 0. 0. 0. 0.]\n [0. 1. 0. 1. 1. 0. 0. 0. 0. 0. 1. 0. 0. 0.]]\nPlayer 3 's hand\n [[0. 0. 1. 0. 0. 0. 0. 0. 0. 0. 1. 0. 0. 0.]\n [0. 1. 0. 0. 0. 0. 1. 1. 0. 0. 1. 0. 0. 0.]\n [0. 0. 0. 0. 0. 0. 0. 0. 0. 0. 0. 0. 1. 0.]\n [0. 0. 1. 0. 0. 0. 1. 1. 0. 1. 0. 0. 0. 1.]]\n$--- Player Turn 0\nCards:\n [[0. 0. 0. 0. 1. 0. 0. 0. 1. 1. 0. 0. 1. 0.]\n [0. 0. 0. 0. 0. 1. 0. 0. 1. 0. 0. 0. 1. 0.]\n [0. 0. 0. 1. 1. 0. 0. 1. 1. 0. 0. 0. 0. 0.]\n [0. 0. 0. 0. 0. 0. 0. 0. 0. 0. 0. 1. 0. 0.]]\nChoose (2, 3)\n$--- CARDS Played [3, 3]\n#--- MOVE 1\n$--- Player Turn 1\nState of (2, 3, array([0., 0., 0., 0., 0., 1., 1., 0., 0., 0., 1., 1., 0., 0.]))\n*---LOWEST---*\nOf cards [0. 0. 0. 0. 0. 1. 1. 0. 0. 0. 1. 1. 0. 0.] choosing lowest card of 5\n$--- CARDS Played [3, 3, 5]\n#--- MOVE 2\n$--- Player Turn 2\nState of (3, 5, array([0., 0., 0., 0., 0., 0., 0., 0., 0., 0., 0., 0., 0., 0.]))\n*---LOWEST---*\nOf cards [0. 0. 0. 0. 0. 0. 0. 0. 0. 0. 0. 0. 0. 0.] choosing lowest card of 0\n$--- CARDS Played [3, 3, 5, 0]\n#--- MOVE 3\n$--- Player Turn 3\nState of (4, 5, array([0., 0., 0., 0., 0., 0., 0., 0., 0., 0., 0., 0., 1., 0.]))\n*---LOWEST---*\nOf cards [0. 0. 0. 0. 0. 0. 0. 0. 0. 0. 0. 0. 1. 0.] choosing lowest card of 12\n$--- CARDS Played [3, 3, 5, 0, 12]\n"
     ],
     "output_type": "stream"
    }
   ],
   "source": [
    "starting_player = 0  # make this ace of clubs eventually\n",
    "done = False\n",
    "i = 1\n",
    "\n",
    "while i < 3:\n",
    "    print('#--- ROUND', i)\n",
    "    sim.print_cards()\n",
    "    # For each round:\n",
    "    # For each player in round\n",
    "    # Choose an action depending on the state\n",
    "    # Do the action\n",
    "    # Compute the reward\n",
    "    # (Q table modification if applicable)\n",
    "    # Change new state, to current state\n",
    "    # Compute points\n",
    "    print('$--- Player Turn', starting_player)\n",
    "    suit, card = sim.init_state(starting_player)\n",
    "    sim.step(starting_player, card)\n",
    "    move = 1\n",
    "    \n",
    "    \n",
    "    while move < players:\n",
    "        # So only a certain number of moves\n",
    "        print('#--- MOVE', move)\n",
    "        \n",
    "        turn = starting_player + move\n",
    "        if turn > 3:\n",
    "            turn -= 4  # Loop back around\n",
    "        print('$--- Player Turn', turn)\n",
    "        \n",
    "        s = sim.gen_state(turn)\n",
    "        print('State of', s)\n",
    "        \n",
    "        a = sim.choose(turn, s)  # Make a decision\n",
    "        sim.step(turn, a)  # play that decision\n",
    "\n",
    "        move += 1\n",
    "    \n",
    "    i += 1"
   ],
   "metadata": {
    "collapsed": false,
    "pycharm": {
     "name": "#%%\n",
     "is_executing": false
    }
   }
  },
  {
   "cell_type": "code",
   "execution_count": 4,
   "outputs": [
    {
     "name": "stdout",
     "text": [
      "Cards:\n [[0. 0. 0. 0. 1. 0. 1. 0. 0. 1. 0. 0. 0. 0.]\n [0. 1. 0. 1. 0. 0. 1. 0. 0. 0. 1. 0. 0. 0.]\n [0. 0. 0. 0. 0. 0. 0. 1. 1. 0. 0. 0. 1. 0.]\n [0. 0. 0. 0. 1. 0. 0. 0. 0. 1. 0. 0. 1. 0.]]\nChoose (1, 1)\n"
     ],
     "output_type": "stream"
    },
    {
     "data": {
      "text/plain": "(1, 1)"
     },
     "metadata": {},
     "output_type": "execute_result",
     "execution_count": 4
    }
   ],
   "source": [],
   "metadata": {
    "collapsed": false,
    "pycharm": {
     "name": "#%%\n",
     "is_executing": false
    }
   }
  }
 ],
 "metadata": {
  "language_info": {
   "codemirror_mode": {
    "name": "ipython",
    "version": 2
   },
   "file_extension": ".py",
   "mimetype": "text/x-python",
   "name": "python",
   "nbconvert_exporter": "python",
   "pygments_lexer": "ipython2",
   "version": "2.7.6"
  },
  "kernelspec": {
   "name": "python3",
   "language": "python",
   "display_name": "Python 3"
  },
  "pycharm": {
   "stem_cell": {
    "cell_type": "raw",
    "source": [],
    "metadata": {
     "collapsed": false
    }
   }
  }
 },
 "nbformat": 4,
 "nbformat_minor": 0
}